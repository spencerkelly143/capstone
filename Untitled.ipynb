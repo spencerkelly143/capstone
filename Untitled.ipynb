{
 "cells": [
  {
   "cell_type": "code",
   "execution_count": 10,
   "metadata": {},
   "outputs": [],
   "source": [
    "def minimumSwaps(arr):\n",
    "    min = arr[0]\n",
    "    min_index = 0\n",
    "    swaps = 0 \n",
    "    for i in range(len(arr)-1):\n",
    "        if arr[i+1] < min_index:\n",
    "            min = arr[i+1]\n",
    "            min_index = i+1\n",
    "            \n",
    "    if min_index != 0:\n",
    "        temp = arr[0]\n",
    "        arr[0] = arr[min_index]\n",
    "        arr[min_index] == temp\n",
    "        swaps += 1\n",
    "    \n",
    "    for i in range(len(arr)-1):\n",
    "        diff = arr[i+1] - arr[0]\n",
    "        if i+1 != diff:\n",
    "            temp = arr[diff]\n",
    "            arr[diff] = arr[i+1]\n",
    "            arr[i+1] = temp\n",
    "            swaps += 1\n",
    "    return swaps"
   ]
  },
  {
   "cell_type": "code",
   "execution_count": 63,
   "metadata": {},
   "outputs": [
    {
     "name": "stdout",
     "output_type": "stream",
     "text": [
      "[6, 5, 4]\n"
     ]
    }
   ],
   "source": [
    "s=[4,5,6]\n",
    "h = s.reverse()\n",
    "print(s)"
   ]
  }
 ],
 "metadata": {
  "kernelspec": {
   "display_name": "Python 3",
   "language": "python",
   "name": "python3"
  },
  "language_info": {
   "codemirror_mode": {
    "name": "ipython",
    "version": 3
   },
   "file_extension": ".py",
   "mimetype": "text/x-python",
   "name": "python",
   "nbconvert_exporter": "python",
   "pygments_lexer": "ipython3",
   "version": "3.7.7"
  }
 },
 "nbformat": 4,
 "nbformat_minor": 4
}
